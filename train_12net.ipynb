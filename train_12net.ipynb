{
 "cells": [
  {
   "cell_type": "code",
   "execution_count": 1,
   "metadata": {},
   "outputs": [],
   "source": [
    "import numpy as np\n",
    "import tensorflow as tf\n",
    "import random\n",
    "\n",
    "import param\n",
    "import data\n",
    "import model\n",
    "\n",
    "import matplotlib.pyplot as plt\n",
    "%matplotlib inline\n",
    "\n",
    "%load_ext autoreload\n",
    "%autoreload 2"
   ]
  },
  {
   "cell_type": "markdown",
   "metadata": {},
   "source": [
    "## load and prepare training images"
   ]
  },
  {
   "cell_type": "code",
   "execution_count": 2,
   "metadata": {},
   "outputs": [
    {
     "name": "stdout",
     "output_type": "stream",
     "text": [
      "Loading positive training db: 100 images from /var/data/AFLW/aflw/data/face_rect100.txt\n",
      "Loading negative training db: 1218 images from /var/data/INRIA/\n",
      "(200, 12, 12, 3)\n",
      "(42630, 12, 12, 3)\n"
     ]
    }
   ],
   "source": [
    "[pos_db_12,_,_],neg_db_12 = data.load_db_detect_train(param.img_size_12)\n",
    "print(pos_db_12.shape)\n",
    "print(neg_db_12.shape)"
   ]
  },
  {
   "cell_type": "code",
   "execution_count": 3,
   "metadata": {},
   "outputs": [
    {
     "data": {
      "image/png": "[encoded data removed]",
      "text/plain": [
       "<matplotlib.figure.Figure at 0x7f1ef0e4cd30>"
      ]
     },
     "metadata": {},
     "output_type": "display_data"
    }
   ],
   "source": [
    "# plot some positive images (faces)\n",
    "num_images_to_plot=8\n",
    "for i in range(num_images_to_plot):\n",
    "    plt.subplot(1,num_images_to_plot,i+1)\n",
    "    plt.imshow(pos_db_12[i])\n",
    "    plt.axis('off')"
   ]
  },
  {
   "cell_type": "code",
   "execution_count": 4,
   "metadata": {},
   "outputs": [
    {
     "data": {
      "image/png": "[encoded data removed]",
      "text/plain": [
       "<matplotlib.figure.Figure at 0x7f1eea5ed9b0>"
      ]
     },
     "metadata": {},
     "output_type": "display_data"
    }
   ],
   "source": [
    "# plot some negative images \n",
    "for i in range(num_images_to_plot):\n",
    "    plt.subplot(1,num_images_to_plot,i+1)\n",
    "    plt.imshow(neg_db_12[i])\n",
    "    plt.axis('off')\n",
    "\n",
    "    "
   ]
  },
  {
   "cell_type": "markdown",
   "metadata": {},
   "source": [
    "## Set up the graph"
   ]
  },
  {
   "cell_type": "code",
   "execution_count": 5,
   "metadata": {},
   "outputs": [],
   "source": [
    "input_12_node = tf.placeholder(\"float\")\n",
    "target_12_node = tf.placeholder(\"float\", [None,1])\n",
    "\n",
    "net_12 = model.detect_12Net(input_12_node,target_12_node)\n",
    "sess = tf.InteractiveSession()\n",
    "sess.run(tf.global_variables_initializer())\n",
    "\n",
    "inputs = np.zeros((param.mini_batch,param.img_size_12,param.img_size_12,param.input_channel), np.float32)\n",
    "targets = np.zeros((param.mini_batch, 1), np.float32)"
   ]
  },
  {
   "cell_type": "markdown",
   "metadata": {},
   "source": [
    "## Start trainig"
   ]
  },
  {
   "cell_type": "code",
   "execution_count": null,
   "metadata": {},
   "outputs": [],
   "source": [
    "print(\"Training start!\")\n",
    "fp_loss = open(\"./result/12net/loss.txt\", \"w\")\n",
    " \n",
    "for epoch in range(param.epoch_num):\n",
    "    \n",
    "    loss = 0\n",
    "    \n",
    "    for it in range(param.batch_iter):\n",
    "\n",
    "        pos_id = random.sample(range(len(pos_db_12)),param.pos_batch)\n",
    "        neg_id = random.sample(range(len(neg_db_12)),param.neg_batch)\n",
    "\n",
    "        inputs[:param.pos_batch,:] = pos_db_12[pos_id,:]\n",
    "        inputs[param.pos_batch:,:] = neg_db_12[neg_id,:]\n",
    "        targets[:param.pos_batch,:] = np.ones((param.pos_batch,1),np.float32)\n",
    "        targets[param.pos_batch:,:] = np.zeros((param.neg_batch,1),np.float32)\n",
    "        \n",
    "        loss += net_12.loss.eval(feed_dict = {input_12_node:inputs, target_12_node:targets})\n",
    "        net_12.train_step.run(feed_dict = {input_12_node:inputs, target_12_node:targets})\n",
    "\n",
    "        if it > 0 and it % 3000 == 0: \n",
    "            print(\"epoch: \" + str(epoch) + \" iter: \" + str(it) + \"/\" + str(param.batch_iter) + \" loss: \" + str(loss / it))\n",
    "\n",
    "    loss /= param.batch_iter \n",
    "    fp_loss.write(str(loss)+\"\\n\")\n",
    "     \n",
    "    saver = tf.train.Saver()\n",
    "    saver.save(sess, param.model_dir + \"12-net.ckpt\")\n",
    "\n",
    "    #test each epoch\n",
    "    test_score = 0\n",
    "    for bid in range(0,len(pos_db_12),param.mini_batch):\n",
    "\n",
    "        if bid+param.mini_batch <= len(pos_db_12):\n",
    "            test_inputs = pos_db_12[bid:bid+param.mini_batch,:]\n",
    "            test_targets = np.ones((param.mini_batch,1),np.float32)\n",
    "        else:\n",
    "            test_inputs = pos_db_12[bid:,:]\n",
    "            test_targets = np.ones((param.mini_batch,1),np.float32)\n",
    "        \n",
    "        output = net_12.prediction.eval(feed_dict = {input_12_node:test_inputs})\n",
    "        test_score += np.sum(output > 0.5)\n",
    "\n",
    "    for bid in range(0,len(neg_db_12),param.mini_batch):\n",
    "\n",
    "        if bid+param.mini_batch <= len(neg_db_12):\n",
    "            test_inputs = neg_db_12[bid:bid+param.mini_batch,:param.dim_12]\n",
    "            test_targets = np.ones((param.mini_batch,1),np.float32)\n",
    "        else:\n",
    "            test_inputs = neg_db_12[bid:,:param.dim_12]\n",
    "            test_targets = np.ones((param.mini_batch,1),np.float32)\n",
    "        \n",
    "        output = net_12.prediction.eval(feed_dict = {input_12_node:test_inputs})\n",
    "        test_score += np.sum(output < 0.5)\n",
    "\n",
    "    test_score /= float(len(pos_db_12)+len(neg_db_12))\n",
    "    print(\"Accuracy: \", test_score)\n",
    "    print() \n",
    "\n",
    "fp_loss.close()\n",
    "    \n",
    "        \n",
    "    \n",
    " "
   ]
  }
 ],
 "metadata": {
  "kernelspec": {
   "display_name": "Python 3",
   "language": "python",
   "name": "python3"
  },
  "language_info": {
   "codemirror_mode": {
    "name": "ipython",
    "version": 3
   },
   "file_extension": ".py",
   "mimetype": "text/x-python",
   "name": "python",
   "nbconvert_exporter": "python",
   "pygments_lexer": "ipython3",
   "version": "3.5.2"
  }
 },
 "nbformat": 4,
 "nbformat_minor": 2
}
